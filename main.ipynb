{
 "cells": [
  {
   "cell_type": "code",
   "execution_count": 30,
   "id": "57a2ed14-4a27-4cd6-9f5d-439eb8442d9d",
   "metadata": {},
   "outputs": [],
   "source": [
    "import requests\n",
    "import pandas as pd\n",
    "from bs4 import BeautifulSoup\n",
    "import numpy as np\n",
    "import snowflake.connector\n",
    "from snowflake.connector.pandas_tools import write_pandas\n",
    "import pandas as pd\n"
   ]
  },
  {
   "cell_type": "code",
   "execution_count": 13,
   "id": "8336d946-f64f-4a8f-b530-2556057b351c",
   "metadata": {},
   "outputs": [
    {
     "ename": "AttributeError",
     "evalue": "'NoneType' object has no attribute 'find_all'",
     "output_type": "error",
     "traceback": [
      "\u001b[1;31m---------------------------------------------------------------------------\u001b[0m",
      "\u001b[1;31mAttributeError\u001b[0m                            Traceback (most recent call last)",
      "Cell \u001b[1;32mIn[13], line 27\u001b[0m\n\u001b[0;32m     21\u001b[0m container \u001b[38;5;241m=\u001b[39m soup\u001b[38;5;241m.\u001b[39mfind(\u001b[38;5;124m'\u001b[39m\u001b[38;5;124mtbody\u001b[39m\u001b[38;5;124m'\u001b[39m, class_\u001b[38;5;241m=\u001b[39m\u001b[38;5;124m\"\u001b[39m\u001b[38;5;124mbody yf-hhhli1\u001b[39m\u001b[38;5;124m\"\u001b[39m)\n\u001b[0;32m     22\u001b[0m \u001b[38;5;66;03m# print(container)\u001b[39;00m\n\u001b[0;32m     23\u001b[0m \n\u001b[0;32m     24\u001b[0m \n\u001b[0;32m     25\u001b[0m \n\u001b[0;32m     26\u001b[0m \u001b[38;5;66;03m# finding names\u001b[39;00m\n\u001b[1;32m---> 27\u001b[0m \u001b[38;5;28;01mfor\u001b[39;00m i \u001b[38;5;129;01min\u001b[39;00m \u001b[43mcontainer\u001b[49m\u001b[38;5;241;43m.\u001b[39;49m\u001b[43mfind_all\u001b[49m(\u001b[38;5;124m'\u001b[39m\u001b[38;5;124mdiv\u001b[39m\u001b[38;5;124m'\u001b[39m, {\u001b[38;5;124m'\u001b[39m\u001b[38;5;124mclass\u001b[39m\u001b[38;5;124m'\u001b[39m: \u001b[38;5;124m'\u001b[39m\u001b[38;5;124myf-362rys\u001b[39m\u001b[38;5;124m'\u001b[39m}):\n\u001b[0;32m     28\u001b[0m     financial_data[\u001b[38;5;124m'\u001b[39m\u001b[38;5;124mname\u001b[39m\u001b[38;5;124m'\u001b[39m]\u001b[38;5;241m.\u001b[39mappend(i\u001b[38;5;241m.\u001b[39mget_text(strip\u001b[38;5;241m=\u001b[39m\u001b[38;5;28;01mTrue\u001b[39;00m))\n\u001b[0;32m     30\u001b[0m \u001b[38;5;66;03m# finding prices\u001b[39;00m\n",
      "\u001b[1;31mAttributeError\u001b[0m: 'NoneType' object has no attribute 'find_all'"
     ]
    }
   ],
   "source": [
    "start = [0, 100, 200,300]\n",
    "financial_data = {\n",
    "    'symbol':[],\n",
    "    'name': [],\n",
    "    'price': [],\n",
    "    'change': [],\n",
    "    'per_change': [],\n",
    "    'volume': [],\n",
    "    'avg_volume': [],\n",
    "    'market_cap': [],\n",
    "    'p_e_ratio': [],\n",
    "    'year_percent_change': []\n",
    "}\n",
    "for i in start:\n",
    "    URL = f\"https://finance.yahoo.com/markets/stocks/most-active/?start={i}&count=100\"\n",
    "    headers = {\"User-Agent\": \"Mozilla/5.0 (Windows NT 10.0; Win64; x64)\"}\n",
    "    \n",
    "    webpage = requests.get(URL, headers=headers)\n",
    "    soup = BeautifulSoup(webpage.content, \"html.parser\")\n",
    "    \n",
    "    container = soup.find('tbody', class_=\"body yf-hhhli1\")\n",
    "    # print(container)\n",
    "    \n",
    "    \n",
    "    \n",
    "    # finding names\n",
    "    for i in container.find_all('div', {'class': 'yf-362rys'}):\n",
    "        financial_data['name'].append(i.get_text(strip=True))\n",
    "        \n",
    "    # finding prices\n",
    "    for i in container.find_all('fin-streamer', {'data-field': 'regularMarketPrice'}):\n",
    "        financial_data['price'].append(float(i.get_text(strip=True)))\n",
    "        \n",
    "    for row in container.find_all('tr', class_=['row', 'false', 'yf-hhhli1']):\n",
    "        components = row.find_all('td', class_='cell tw-h-10 tw-py-0 yf-hhhli1') \n",
    "        financial_data['symbol'].append(components[0].get_text(strip=True))\n",
    "        financial_data['change'].append(components[3].get_text(strip=True))\n",
    "        financial_data['per_change'].append(components[4].get_text(strip=True))\n",
    "        financial_data['volume'].append(components[5].get_text(strip=True))\n",
    "        financial_data['avg_volume'].append(components[6].get_text(strip=True))\n",
    "        financial_data['market_cap'].append(components[7].get_text(strip=True))\n",
    "        financial_data['p_e_ratio'].append(components[8].get_text(strip=True))\n",
    "        financial_data['year_percent_change'].append(components[9].get_text(strip=True))"
   ]
  },
  {
   "cell_type": "code",
   "execution_count": null,
   "id": "fb8c5055-15c2-46ee-a4d2-1f5bff65efb2",
   "metadata": {},
   "outputs": [],
   "source": [
    "df = pd.DataFrame(financial_data)\n",
    "df"
   ]
  },
  {
   "cell_type": "code",
   "execution_count": null,
   "id": "7ebe38a4-4ebe-4e4a-8f1f-7a79dfd45564",
   "metadata": {},
   "outputs": [],
   "source": [
    "df['per_change'] = df['per_change'].str.replace(\"%\", \"\")\n",
    "df['per_change'] = df['per_change'].astype(float, errors='ignore')\n",
    "df['change'] = df['change'].astype(float)"
   ]
  },
  {
   "cell_type": "code",
   "execution_count": null,
   "id": "607c5647-cd97-4f7c-8a77-cf0b8c02ce2a",
   "metadata": {},
   "outputs": [],
   "source": [
    "df['p_e_ratio'] = df['p_e_ratio'].replace(\"-\", pd.NA)\n",
    "df['p_e_ratio'] = pd.to_numeric(df['p_e_ratio'], errors='coerce')"
   ]
  },
  {
   "cell_type": "code",
   "execution_count": null,
   "id": "576f603f-7413-4b5b-9f39-cbcce224a1a8",
   "metadata": {},
   "outputs": [],
   "source": [
    "df['year_percent_change'] = df['year_percent_change'].str.replace(\"%\", \"\")\n",
    "df['year_percent_change'] = df['year_percent_change'].astype(float, errors='ignore')"
   ]
  },
  {
   "cell_type": "code",
   "execution_count": null,
   "id": "3917d621-3041-4bf6-9f60-1f99d91acf5d",
   "metadata": {},
   "outputs": [],
   "source": [
    "mp = {'K':' * 10**3', 'M':' * 10**6', 'B':' * 10**9', 'T':' * 10**12', 'q':' * 10**15', 'Q':' * 10**15'}\n",
    "df['volume'] = df['volume'].replace(mp.keys(), mp.values(), regex=True)\n",
    "df['volume'] = df.apply(lambda x: eval(x.volume), axis=1)"
   ]
  },
  {
   "cell_type": "code",
   "execution_count": null,
   "id": "6e204110-69be-4792-b24e-748efd8f5f5b",
   "metadata": {},
   "outputs": [],
   "source": [
    "df['avg_volume'] = df['avg_volume'].replace(mp.keys(), mp.values(), regex=True)\n",
    "df['avg_volume'] = df.apply(lambda x: eval(x.avg_volume), axis=1)"
   ]
  },
  {
   "cell_type": "code",
   "execution_count": null,
   "id": "df70bc24-9026-499a-a5f9-2b5f84a747cb",
   "metadata": {},
   "outputs": [],
   "source": [
    "df['market_cap'] = df['market_cap'].replace(mp.keys(), mp.values(), regex=True)"
   ]
  },
  {
   "cell_type": "code",
   "execution_count": null,
   "id": "ff32c43d-75c0-4dec-9b28-60166ecffabd",
   "metadata": {},
   "outputs": [],
   "source": [
    "df['market_cap'] = df.apply(lambda x: eval(x.market_cap), axis=1)"
   ]
  },
  {
   "cell_type": "code",
   "execution_count": 74,
   "id": "053d496d-331e-4a40-b4d9-0fd7edad0ec6",
   "metadata": {},
   "outputs": [],
   "source": [
    "# df.to_csv('yahoo_finance.csv', index=False)"
   ]
  },
  {
   "cell_type": "code",
   "execution_count": 75,
   "id": "8e694a1e-681d-4e11-be31-d8116e664506",
   "metadata": {},
   "outputs": [],
   "source": [
    "# import sqlalchemy as sal\n",
    "# engine = sal.create_engine('mssql://Kabir-Khan-PC/master?driver=ODBC+DRIVER+17+FOR+SQL+SERVER')\n",
    "# conn = engine.connect()"
   ]
  },
  {
   "cell_type": "code",
   "execution_count": 77,
   "id": "6663b0f1-e9ae-4336-b80a-b69212d9ee1c",
   "metadata": {},
   "outputs": [
    {
     "data": {
      "text/plain": [
       "96"
      ]
     },
     "execution_count": 77,
     "metadata": {},
     "output_type": "execute_result"
    }
   ],
   "source": [
    "# df.to_sql('yahoo_finance', con=conn, index=False, if_exists='append')"
   ]
  },
  {
   "cell_type": "code",
   "execution_count": 18,
   "id": "27820eb8-e13e-4291-aba5-99b9049d2ffb",
   "metadata": {},
   "outputs": [],
   "source": [
    "df = pd.read_csv('yahoo_finance.csv', usecols=lambda col: col != df.columns[0])\n"
   ]
  },
  {
   "cell_type": "code",
   "execution_count": 5,
   "id": "df76c4ca-e134-4435-b9cf-670b62727599",
   "metadata": {},
   "outputs": [],
   "source": [
    "conn = snowflake.connector.connect(\n",
    "    user='KHANKABIR1512',\n",
    "    password='abcd',\n",
    "    account='PXB77170',\n",
    "    warehouse='PRACTICE',\n",
    "    database='YAHOO_FINANCE',\n",
    "    schema='ANALYSIS'\n",
    "    )"
   ]
  },
  {
   "cell_type": "code",
   "execution_count": 8,
   "id": "d5bc26eb-f728-4e4f-87dc-4cb1b67857d9",
   "metadata": {},
   "outputs": [
    {
     "data": {
      "text/plain": [
       "<snowflake.connector.cursor.SnowflakeCursor at 0x1b4d880ac60>"
      ]
     },
     "execution_count": 8,
     "metadata": {},
     "output_type": "execute_result"
    }
   ],
   "source": [
    "conn.cursor().execute(\n",
    "    '''create table finance_analysis (\n",
    "\tsymbol varchar(10) primary key not null,\n",
    "\tname varchar(50),\n",
    "\tprice float,\n",
    "\tchange float,\n",
    "\tper_change float,\n",
    "\tvolume float,\n",
    "\tavg_volume float,\n",
    "\tmarket_cap float,\n",
    "\tp_e_ratio float,\n",
    "\tyear_percent_change float\n",
    ")''')"
   ]
  },
  {
   "cell_type": "code",
   "execution_count": 34,
   "id": "a0511326-b711-43cc-bb2d-237c5237981f",
   "metadata": {},
   "outputs": [
    {
     "name": "stdout",
     "output_type": "stream",
     "text": [
      "Upload Successful: True, Rows Inserted: 305\n"
     ]
    }
   ],
   "source": [
    "success, num_chunks, num_rows, output = write_pandas(conn, df, 'FINANCE_ANALYSIS')\n",
    "print(f\"Upload Successful: {success}, Rows Inserted: {num_rows}\")\n"
   ]
  },
  {
   "cell_type": "code",
   "execution_count": 32,
   "id": "908f1d34-3666-42f1-a84b-40d5adad51a5",
   "metadata": {},
   "outputs": [],
   "source": [
    "df.columns = df.columns.str.upper()"
   ]
  },
  {
   "cell_type": "code",
   "execution_count": 33,
   "id": "4235c5fb-0d38-4cc7-a0ab-aa9e222012e0",
   "metadata": {},
   "outputs": [
    {
     "data": {
      "text/plain": [
       "Index(['SYMBOL', 'NAME', 'PRICE', 'CHANGE', 'PER_CHANGE', 'VOLUME',\n",
       "       'AVG_VOLUME', 'MARKET_CAP', 'P_E_RATIO', 'YEAR_PERCENT_CHANGE'],\n",
       "      dtype='object')"
      ]
     },
     "execution_count": 33,
     "metadata": {},
     "output_type": "execute_result"
    }
   ],
   "source": [
    "df.columns"
   ]
  },
  {
   "cell_type": "code",
   "execution_count": null,
   "id": "2d6b68d0-62ae-48ce-9332-4e052d111e85",
   "metadata": {},
   "outputs": [],
   "source": []
  }
 ],
 "metadata": {
  "kernelspec": {
   "display_name": "Python 3 (ipykernel)",
   "language": "python",
   "name": "python3"
  },
  "language_info": {
   "codemirror_mode": {
    "name": "ipython",
    "version": 3
   },
   "file_extension": ".py",
   "mimetype": "text/x-python",
   "name": "python",
   "nbconvert_exporter": "python",
   "pygments_lexer": "ipython3",
   "version": "3.12.7"
  }
 },
 "nbformat": 4,
 "nbformat_minor": 5
}
